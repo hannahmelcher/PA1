{
 "cells": [
  {
   "cell_type": "markdown",
   "id": "a749e9fb",
   "metadata": {},
   "source": [
    "# Hannah Melcher version 1"
   ]
  },
  {
   "cell_type": "markdown",
   "id": "4da2b4fa",
   "metadata": {},
   "source": [
    "# CS-150-01\n",
    "## Getting Started with Markdown"
   ]
  },
  {
   "cell_type": "markdown",
   "id": "f90f3a33",
   "metadata": {},
   "source": [
    "> This is an interesting class"
   ]
  },
  {
   "cell_type": "markdown",
   "id": "fe1889cc",
   "metadata": {},
   "source": [
    "* Variables and Simple Data Types\n",
    "* Introducing Lists, Tuples\n",
    "* if Statements\n",
    "* Dictionaries, Sets\n",
    "* While Loops\n",
    "* Functions\n",
    "* Classes\n"
   ]
  },
  {
   "cell_type": "markdown",
   "id": "9675186a",
   "metadata": {},
   "source": [
    "1. Programming assignment 1\n",
    "2. programming assignment 2\n",
    "3. programming assignment 3\n",
    "4. programming assignment 4\n",
    "5. programming assignment 5\n",
    "6. programming assignemnt 6\n",
    "7. programming assignment 7"
   ]
  },
  {
   "cell_type": "markdown",
   "id": "1e83d054",
   "metadata": {},
   "source": [
    "**My name is Hannah Melcher**"
   ]
  },
  {
   "cell_type": "markdown",
   "id": "f4471549",
   "metadata": {},
   "source": [
    "*I am a senior Communications and DAT major*"
   ]
  },
  {
   "cell_type": "markdown",
   "id": "47540dc5",
   "metadata": {},
   "source": [
    "`I am an Indianapolis Colts fan`"
   ]
  },
  {
   "cell_type": "markdown",
   "id": "4b63e31b",
   "metadata": {},
   "source": [
    "you can access github using <a href=\"https://github.com?\">this link</a>"
   ]
  },
  {
   "attachments": {},
   "cell_type": "markdown",
   "id": "1bc15875",
   "metadata": {},
   "source": [
    "![Dog photo](https://images.dog.ceo/breeds/bullterrier-staffordshire/n02093256_2073.jpg)"
   ]
  },
  {
   "cell_type": "code",
   "execution_count": null,
   "id": "49ed375a",
   "metadata": {},
   "outputs": [],
   "source": []
  }
 ],
 "metadata": {
  "kernelspec": {
   "display_name": "Python 3 (ipykernel)",
   "language": "python",
   "name": "python3"
  },
  "language_info": {
   "codemirror_mode": {
    "name": "ipython",
    "version": 3
   },
   "file_extension": ".py",
   "mimetype": "text/x-python",
   "name": "python",
   "nbconvert_exporter": "python",
   "pygments_lexer": "ipython3",
   "version": "3.9.13"
  }
 },
 "nbformat": 4,
 "nbformat_minor": 5
}
